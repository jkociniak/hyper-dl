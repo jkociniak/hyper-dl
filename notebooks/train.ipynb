{
 "cells": [
  {
   "cell_type": "code",
   "execution_count": 7,
   "id": "597c516d",
   "metadata": {},
   "outputs": [
    {
     "name": "stdout",
     "output_type": "stream",
     "text": [
      "The autoreload extension is already loaded. To reload it, use:\n",
      "  %reload_ext autoreload\n",
      "/home/jk394348/hyper-dl\n"
     ]
    }
   ],
   "source": [
    "%load_ext autoreload\n",
    "%autoreload 2\n",
    "\n",
    "import os\n",
    "os.chdir('/home/jk394348/hyper-dl')\n",
    "print(os.getcwd())"
   ]
  },
  {
   "cell_type": "code",
   "execution_count": 8,
   "id": "fdd9c373",
   "metadata": {
    "tags": []
   },
   "outputs": [
    {
     "name": "stdout",
     "output_type": "stream",
     "text": [
      "/home/jk394348/hyper-dl\n"
     ]
    }
   ],
   "source": [
    "import hydra\n",
    "from hydra.utils import get_original_cwd\n",
    "from hydra import initialize, compose\n",
    "\n",
    "overrides = [\n",
    "    'epochs=5'\n",
    "]\n",
    "\n",
    "with initialize(config_path=\"../conf\"):\n",
    "    cfg = compose(config_name=\"config.yaml\", overrides=overrides)"
   ]
  },
  {
   "cell_type": "code",
   "execution_count": 10,
   "id": "56234ae8",
   "metadata": {},
   "outputs": [
    {
     "name": "stdout",
     "output_type": "stream",
     "text": [
      "Working directory : /home/jk394348/hyper-dl\n",
      "https://app.neptune.ai/jkociniak/hyperbolic-dist-pred/e/HYPERDIST-2717\n",
      "Remember to stop your run once you’ve finished logging your metadata (https://docs.neptune.ai/api-reference/run#.stop). It will be stopped automatically only when the notebook kernel/interactive console is terminated.\n",
      "Found device: cuda\n",
      "[1] train loss (mean of batch losses): 1.7771011402675083\n",
      "[1] val loss: 0.7505387329101563\n",
      "[2] train loss (mean of batch losses): 0.3819587475367955\n",
      "[2] val loss: 0.22569158058166505\n",
      "[3] train loss (mean of batch losses): 0.18705775933946883\n",
      "[3] val loss: 0.1722919038772583\n",
      "[4] train loss (mean of batch losses): 0.16011666826520649\n",
      "[4] val loss: 0.15903715333938598\n",
      "[5] train loss (mean of batch losses): 0.15092442943028042\n",
      "[5] val loss: 0.15443335494995117\n",
      "Training finished\n",
      "Generating results...\n",
      "Experiment finished\n",
      "Shutting down background jobs, please wait a moment...\n",
      "Done!\n"
     ]
    },
    {
     "name": "stderr",
     "output_type": "stream",
     "text": [
      "Waiting for the remaining 21 operations to synchronize with Neptune. Do not kill this process.\n"
     ]
    },
    {
     "name": "stdout",
     "output_type": "stream",
     "text": [
      "All 21 operations synced, thanks for waiting!\n"
     ]
    }
   ],
   "source": [
    "import pickle\n",
    "from omegaconf import DictConfig\n",
    "from config import run_training\n",
    "from data import build_loaders\n",
    "from plot import setup_dirs, dump_results\n",
    "\n",
    "\n",
    "def build_dataset_path(seed, n_samples, dim, eps, curv, transform_dim):\n",
    "    template = 'dim={},n_samples={},eps={},transform_dim={},curv={},seed={}.pkl'\n",
    "    return template.format(int(dim), int(n_samples), eps, transform_dim, curv, seed)"
   ]
  },
  {
   "cell_type": "code",
   "execution_count": 4,
   "id": "2425db39-85c8-4a3a-8703-ee7126bc336d",
   "metadata": {},
   "outputs": [
    {
     "name": "stdout",
     "output_type": "stream",
     "text": [
      "name: DoubleInputHyperbolicFFN\n",
      "input_dim: 2\n",
      "hidden_dims: []\n",
      "output_dim: 2\n",
      "bias: False\n",
      "curv: 1\n",
      "activation: None\n",
      "skips: False"
     ]
    }
   ],
   "source": [
    "cwd = os.getcwd()\n",
    "print(\"Working directory : {}\".format(cwd))\n",
    "\n",
    "dataset_path = build_dataset_path(**cfg['dataset_params'])\n",
    "dataset_path = os.path.join(cwd, 'datasets', dataset_path)\n",
    "\n",
    "with open(dataset_path, 'rb') as f:\n",
    "    datasets = pickle.load(f)\n",
    "loaders = build_loaders(datasets, cfg['bs'], cfg['num_workers'])\n",
    "\n",
    "results, run = run_training(loaders=loaders,\n",
    "                            cfg=cfg,\n",
    "                            **cfg)"
   ]
  },
  {
   "cell_type": "raw",
   "id": "3e3998f3",
   "metadata": {},
   "source": [
    "!git pull"
   ]
  },
  {
   "cell_type": "code",
   "execution_count": null,
   "id": "63332785",
   "metadata": {},
   "outputs": [],
   "source": []
  },
  {
   "cell_type": "code",
   "execution_count": null,
   "id": "952669b3",
   "metadata": {},
   "outputs": [],
   "source": [
    "folder_names = set(datasets.keys()) | set(results.keys())\n",
    "base_dir = os.getcwd()\n",
    "setup_dirs(folder_names, base_dir)\n",
    "dump_results(datasets, results, base_dir, run)"
   ]
  }
 ],
 "metadata": {
  "kernelspec": {
   "display_name": "Python 3 (ipykernel)",
   "language": "python",
   "name": "python3"
  },
  "language_info": {
   "codemirror_mode": {
    "name": "ipython",
    "version": 3
   },
   "file_extension": ".py",
   "mimetype": "text/x-python",
   "name": "python",
   "nbconvert_exporter": "python",
   "pygments_lexer": "ipython3",
   "version": "3.8.10"
  }
 },
 "nbformat": 4,
 "nbformat_minor": 5
}